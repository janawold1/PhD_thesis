{
 "cells": [
  {
   "cell_type": "markdown",
   "metadata": {},
   "source": [
    "Finding the high frequency alleles in manta_Mendel.vcf. Have first run...\n",
    "    vcftools --gzvcf manta_Mendel.vcf.gz --freq2 --out manta_Mendel_freq \n",
    "Then, converted the output to a csv file in nano and saved it as \n",
    "    manta_Mendel_freq.csv"
   ]
  },
  {
   "cell_type": "code",
   "execution_count": null,
   "metadata": {},
   "outputs": [],
   "source": [
    "import numpy as np\n",
    "import pandas as pd\n",
    "\n",
    "allele = pd.read_csv('manta_Mendel_freq.csv', delimiter = ',') \n",
    "print(allele.head(5))\n",
    "print(allele.describe())\n",
    "\n",
    "low_freq = allele[allele['FREQ'] < 0.05]\n",
    "print(low_freq.describe())"
   ]
  },
  {
   "cell_type": "code",
   "execution_count": null,
   "metadata": {},
   "outputs": [],
   "source": []
  }
 ],
 "metadata": {
  "kernelspec": {
   "display_name": "Python 3",
   "language": "python",
   "name": "python3"
  },
  "language_info": {
   "codemirror_mode": {
    "name": "ipython",
    "version": 3
   },
   "file_extension": ".py",
   "mimetype": "text/x-python",
   "name": "python",
   "nbconvert_exporter": "python",
   "pygments_lexer": "ipython3",
   "version": "3.6.9"
  }
 },
 "nbformat": 4,
 "nbformat_minor": 4
}
